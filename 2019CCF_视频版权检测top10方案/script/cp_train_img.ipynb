{
 "cells": [
  {
   "cell_type": "code",
   "execution_count": 35,
   "metadata": {},
   "outputs": [],
   "source": [
    "import pandas as pd\n",
    "import os "
   ]
  },
  {
   "cell_type": "code",
   "execution_count": 36,
   "metadata": {},
   "outputs": [],
   "source": [
    "data = pd.read_csv('./train.csv')"
   ]
  },
  {
   "cell_type": "code",
   "execution_count": 37,
   "metadata": {},
   "outputs": [],
   "source": [
    "query_id=data[0:20]['query_id']\n",
    "refer_id=data[0:20]['refer_id']"
   ]
  },
  {
   "cell_type": "code",
   "execution_count": 38,
   "metadata": {},
   "outputs": [],
   "source": [
    "cp_query_order='cp -r ../input/query_train_frame/{0} ./query_frame/{0}'\n",
    "cp_refer_order='cp -r ../input/refer_frame/{0} ./refer_frame/{0}'"
   ]
  },
  {
   "cell_type": "code",
   "execution_count": 39,
   "metadata": {},
   "outputs": [
    {
     "name": "stdout",
     "output_type": "stream",
     "text": [
      "1244627000\n",
      "1530507600\n",
      "2620315400\n",
      "1629260900\n",
      "3043930400\n",
      "2927857700\n",
      "2333805400\n",
      "1723849300\n",
      "1753812600\n",
      "1398481500\n",
      "1398481500\n",
      "1596046700\n",
      "1376903200\n",
      "1804312000\n",
      "1753812600\n",
      "1782169900\n",
      "1596046700\n",
      "1773351300\n",
      "2400411900\n",
      "3043930400\n"
     ]
    }
   ],
   "source": [
    "for id in query_id:\n",
    "    os.system(cp_query_order.format(id))\n",
    "for id in refer_id:\n",
    "    os.system(cp_refer_order.format(id))\n",
    "    print(id)"
   ]
  },
  {
   "cell_type": "code",
   "execution_count": null,
   "metadata": {},
   "outputs": [],
   "source": []
  },
  {
   "cell_type": "code",
   "execution_count": null,
   "metadata": {},
   "outputs": [],
   "source": []
  }
 ],
 "metadata": {
  "kernelspec": {
   "display_name": "Python 3",
   "language": "python",
   "name": "python3"
  },
  "language_info": {
   "codemirror_mode": {
    "name": "ipython",
    "version": 3
   },
   "file_extension": ".py",
   "mimetype": "text/x-python",
   "name": "python",
   "nbconvert_exporter": "python",
   "pygments_lexer": "ipython3",
   "version": "3.5.6"
  }
 },
 "nbformat": 4,
 "nbformat_minor": 2
}
